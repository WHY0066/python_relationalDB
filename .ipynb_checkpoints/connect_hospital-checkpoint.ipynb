{
 "cells": [
  {
   "cell_type": "code",
   "execution_count": 4,
   "id": "36411932-4d08-42a3-a2ac-2bfe15e69c5f",
   "metadata": {},
   "outputs": [],
   "source": [
    "import mysql.connector\n",
    "\n",
    "# 建立连接\n",
    "conn  = mysql.connector.connect(\n",
    "    host=\"localhost\",      # MySQL 服务器地址\n",
    "    user=\"root\", # 用户名\n",
    "    password=\"\"\"GYHxiao0606!\"\"\", # 密码\n",
    "    database=\"hospital\"  # 数据库名\n",
    ")\n",
    "cursor = conn.cursor()"
   ]
  },
  {
   "cell_type": "code",
   "execution_count": 5,
   "id": "323d70ee-adff-4fa6-ab2b-de41430dfe9a",
   "metadata": {},
   "outputs": [
    {
     "name": "stdout",
     "output_type": "stream",
     "text": [
      "(1, 'sugery', 'Description of item 1')\n",
      "(2, 'internal', 'Description of item 2')\n"
     ]
    }
   ],
   "source": [
    "# 创建游标\n",
    "\n",
    "# 执行 SQL 查询\n",
    "cursor.execute(\"SELECT * FROM hospital.department\")\n",
    "rows = cursor.fetchall()  # 获取所有结果\n",
    "for row in rows:\n",
    "    print(row)\n",
    "\n",
    "# 关闭连接\n",
    "cursor.close()\n",
    "conn.close()"
   ]
  },
  {
   "cell_type": "code",
   "execution_count": null,
   "id": "af1dcac7-80f6-4dbc-8a7d-7349b70a80cc",
   "metadata": {},
   "outputs": [],
   "source": []
  }
 ],
 "metadata": {
  "kernelspec": {
   "display_name": "Python [conda env:base] *",
   "language": "python",
   "name": "conda-base-py"
  },
  "language_info": {
   "codemirror_mode": {
    "name": "ipython",
    "version": 3
   },
   "file_extension": ".py",
   "mimetype": "text/x-python",
   "name": "python",
   "nbconvert_exporter": "python",
   "pygments_lexer": "ipython3",
   "version": "3.10.13"
  }
 },
 "nbformat": 4,
 "nbformat_minor": 5
}
