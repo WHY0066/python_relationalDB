{
 "cells": [
  {
   "cell_type": "code",
   "execution_count": 7,
   "id": "36411932-4d08-42a3-a2ac-2bfe15e69c5f",
   "metadata": {},
   "outputs": [],
   "source": [
    "import mysql.connector\n",
    "from datetime import date\n",
    " \n",
    "conn  = mysql.connector.connect(\n",
    "    host=\"localhost\",      \n",
    "    user=\"root\", \n",
    "    password=\"\"\"GYHxiao0606!\"\"\", \n",
    "    database=\"hospital\" \n",
    ")\n",
    "cursor = conn.cursor()"
   ]
  },
  {
   "cell_type": "code",
   "execution_count": 2,
   "id": "323d70ee-adff-4fa6-ab2b-de41430dfe9a",
   "metadata": {},
   "outputs": [
    {
     "name": "stdout",
     "output_type": "stream",
     "text": [
      "(1, 'sugery', 'Description of item 1')\n",
      "(2, 'internal', 'Description of item 2')\n"
     ]
    }
   ],
   "source": [
    "\n",
    "cursor.execute(\"SELECT * FROM hospital.department\")\n",
    "rows = cursor.fetchall()  \n",
    "for row in rows:\n",
    "    print(row)\n"
   ]
  },
  {
   "cell_type": "code",
   "execution_count": 14,
   "id": "af1dcac7-80f6-4dbc-8a7d-7349b70a80cc",
   "metadata": {},
   "outputs": [],
   "source": [
    "doctors_data = [\n",
    "        (1, \"Dr.A\", \"a\", date(2015, 6, 1), date(2025, 6, 1)),\n",
    "        (2, \"Dr.B\", \"b\", date(2018, 3, 15), None),  \n",
    "        (3, \"Dr.C\", \"c\", date(2020, 1, 10), date(2023, 12, 31)),\n",
    "        (4, \"Dr.D\", \"d\", date(2017, 9, 1), None)\n",
    "    ]"
   ]
  },
  {
   "cell_type": "code",
   "execution_count": 17,
   "id": "534c25e9-e564-464f-bf75-cf1f4ab55114",
   "metadata": {},
   "outputs": [
    {
     "ename": "IntegrityError",
     "evalue": "1062 (23000): Duplicate entry '1' for key 'doctor.PRIMARY'",
     "output_type": "error",
     "traceback": [
      "\u001b[1;31m---------------------------------------------------------------------------\u001b[0m",
      "\u001b[1;31mIntegrityError\u001b[0m                            Traceback (most recent call last)",
      "Cell \u001b[1;32mIn[17], line 5\u001b[0m\n\u001b[0;32m      1\u001b[0m insert_query \u001b[38;5;241m=\u001b[39m \u001b[38;5;124m\"\"\"\u001b[39m\n\u001b[0;32m      2\u001b[0m \u001b[38;5;124m    INSERT INTO hospital.doctor (id, name, description, start_date, end_date)\u001b[39m\n\u001b[0;32m      3\u001b[0m \u001b[38;5;124m    VALUES (\u001b[39m\u001b[38;5;132;01m%s\u001b[39;00m\u001b[38;5;124m, \u001b[39m\u001b[38;5;132;01m%s\u001b[39;00m\u001b[38;5;124m, \u001b[39m\u001b[38;5;132;01m%s\u001b[39;00m\u001b[38;5;124m, \u001b[39m\u001b[38;5;132;01m%s\u001b[39;00m\u001b[38;5;124m, \u001b[39m\u001b[38;5;132;01m%s\u001b[39;00m\u001b[38;5;124m)\u001b[39m\n\u001b[0;32m      4\u001b[0m \u001b[38;5;124m    \u001b[39m\u001b[38;5;124m\"\"\"\u001b[39m\n\u001b[1;32m----> 5\u001b[0m \u001b[43mcursor\u001b[49m\u001b[38;5;241;43m.\u001b[39;49m\u001b[43mexecutemany\u001b[49m\u001b[43m(\u001b[49m\u001b[43minsert_query\u001b[49m\u001b[43m,\u001b[49m\u001b[43m \u001b[49m\u001b[43mdoctors_data\u001b[49m\u001b[43m)\u001b[49m\n\u001b[0;32m      6\u001b[0m conn\u001b[38;5;241m.\u001b[39mcommit()\n\u001b[0;32m      8\u001b[0m cursor\u001b[38;5;241m.\u001b[39mexecute(\u001b[38;5;124m\"\u001b[39m\u001b[38;5;124mSELECT * FROM hospital.doctor\u001b[39m\u001b[38;5;124m\"\u001b[39m)\n",
      "File \u001b[1;32mD:\\anaconda3\\lib\\site-packages\\mysql\\connector\\cursor.py:854\u001b[0m, in \u001b[0;36mMySQLCursor.executemany\u001b[1;34m(self, operation, seq_params)\u001b[0m\n\u001b[0;32m    852\u001b[0m     \u001b[38;5;28;01mif\u001b[39;00m stmt \u001b[38;5;129;01mis\u001b[39;00m \u001b[38;5;129;01mnot\u001b[39;00m \u001b[38;5;28;01mNone\u001b[39;00m:\n\u001b[0;32m    853\u001b[0m         \u001b[38;5;28mself\u001b[39m\u001b[38;5;241m.\u001b[39m_executed \u001b[38;5;241m=\u001b[39m stmt\n\u001b[1;32m--> 854\u001b[0m         \u001b[38;5;28;01mreturn\u001b[39;00m \u001b[38;5;28;43mself\u001b[39;49m\u001b[38;5;241;43m.\u001b[39;49m\u001b[43mexecute\u001b[49m\u001b[43m(\u001b[49m\u001b[43mstmt\u001b[49m\u001b[43m)\u001b[49m\n\u001b[0;32m    856\u001b[0m rowcnt \u001b[38;5;241m=\u001b[39m \u001b[38;5;241m0\u001b[39m\n\u001b[0;32m    857\u001b[0m \u001b[38;5;28;01mtry\u001b[39;00m:\n",
      "File \u001b[1;32mD:\\anaconda3\\lib\\site-packages\\mysql\\connector\\cursor.py:748\u001b[0m, in \u001b[0;36mMySQLCursor.execute\u001b[1;34m(self, operation, params, multi)\u001b[0m\n\u001b[0;32m    745\u001b[0m     \u001b[38;5;28;01mreturn\u001b[39;00m \u001b[38;5;28mself\u001b[39m\u001b[38;5;241m.\u001b[39m_execute_iter(\u001b[38;5;28mself\u001b[39m\u001b[38;5;241m.\u001b[39m_connection\u001b[38;5;241m.\u001b[39mcmd_query_iter(stmt))\n\u001b[0;32m    747\u001b[0m \u001b[38;5;28;01mtry\u001b[39;00m:\n\u001b[1;32m--> 748\u001b[0m     \u001b[38;5;28mself\u001b[39m\u001b[38;5;241m.\u001b[39m_handle_result(\u001b[38;5;28;43mself\u001b[39;49m\u001b[38;5;241;43m.\u001b[39;49m\u001b[43m_connection\u001b[49m\u001b[38;5;241;43m.\u001b[39;49m\u001b[43mcmd_query\u001b[49m\u001b[43m(\u001b[49m\u001b[43mstmt\u001b[49m\u001b[43m)\u001b[49m)\n\u001b[0;32m    749\u001b[0m \u001b[38;5;28;01mexcept\u001b[39;00m InterfaceError \u001b[38;5;28;01mas\u001b[39;00m err:\n\u001b[0;32m    750\u001b[0m     \u001b[38;5;28;01mif\u001b[39;00m \u001b[38;5;28mself\u001b[39m\u001b[38;5;241m.\u001b[39m_connection\u001b[38;5;241m.\u001b[39mhave_next_result:\n",
      "File \u001b[1;32mD:\\anaconda3\\lib\\site-packages\\mysql\\connector\\opentelemetry\\context_propagation.py:102\u001b[0m, in \u001b[0;36mwith_context_propagation.<locals>.wrapper\u001b[1;34m(cnx, *args, **kwargs)\u001b[0m\n\u001b[0;32m    100\u001b[0m \u001b[38;5;250m\u001b[39m\u001b[38;5;124;03m\"\"\"Context propagation decorator.\"\"\"\u001b[39;00m\n\u001b[0;32m    101\u001b[0m \u001b[38;5;28;01mif\u001b[39;00m \u001b[38;5;129;01mnot\u001b[39;00m OTEL_ENABLED \u001b[38;5;129;01mor\u001b[39;00m \u001b[38;5;129;01mnot\u001b[39;00m cnx\u001b[38;5;241m.\u001b[39motel_context_propagation:\n\u001b[1;32m--> 102\u001b[0m     \u001b[38;5;28;01mreturn\u001b[39;00m method(cnx, \u001b[38;5;241m*\u001b[39margs, \u001b[38;5;241m*\u001b[39m\u001b[38;5;241m*\u001b[39mkwargs)\n\u001b[0;32m    104\u001b[0m current_span \u001b[38;5;241m=\u001b[39m trace\u001b[38;5;241m.\u001b[39mget_current_span()\n\u001b[0;32m    105\u001b[0m tp_header \u001b[38;5;241m=\u001b[39m \u001b[38;5;28;01mNone\u001b[39;00m\n",
      "File \u001b[1;32mD:\\anaconda3\\lib\\site-packages\\mysql\\connector\\connection.py:861\u001b[0m, in \u001b[0;36mMySQLConnection.cmd_query\u001b[1;34m(self, query, raw, buffered, raw_as_string)\u001b[0m\n\u001b[0;32m    859\u001b[0m query \u001b[38;5;241m=\u001b[39m \u001b[38;5;28mbytes\u001b[39m(packet)\n\u001b[0;32m    860\u001b[0m \u001b[38;5;28;01mtry\u001b[39;00m:\n\u001b[1;32m--> 861\u001b[0m     result \u001b[38;5;241m=\u001b[39m \u001b[38;5;28;43mself\u001b[39;49m\u001b[38;5;241;43m.\u001b[39;49m\u001b[43m_handle_result\u001b[49m\u001b[43m(\u001b[49m\u001b[38;5;28;43mself\u001b[39;49m\u001b[38;5;241;43m.\u001b[39;49m\u001b[43m_send_cmd\u001b[49m\u001b[43m(\u001b[49m\u001b[43mServerCmd\u001b[49m\u001b[38;5;241;43m.\u001b[39;49m\u001b[43mQUERY\u001b[49m\u001b[43m,\u001b[49m\u001b[43m \u001b[49m\u001b[43mquery\u001b[49m\u001b[43m)\u001b[49m\u001b[43m)\u001b[49m\n\u001b[0;32m    862\u001b[0m \u001b[38;5;28;01mexcept\u001b[39;00m ProgrammingError \u001b[38;5;28;01mas\u001b[39;00m err:\n\u001b[0;32m    863\u001b[0m     \u001b[38;5;28;01mif\u001b[39;00m err\u001b[38;5;241m.\u001b[39merrno \u001b[38;5;241m==\u001b[39m \u001b[38;5;241m3948\u001b[39m \u001b[38;5;129;01mand\u001b[39;00m \u001b[38;5;124m\"\u001b[39m\u001b[38;5;124mLoading local data is disabled\u001b[39m\u001b[38;5;124m\"\u001b[39m \u001b[38;5;129;01min\u001b[39;00m err\u001b[38;5;241m.\u001b[39mmsg:\n",
      "File \u001b[1;32mD:\\anaconda3\\lib\\site-packages\\mysql\\connector\\connection.py:637\u001b[0m, in \u001b[0;36mMySQLConnection._handle_result\u001b[1;34m(self, packet)\u001b[0m\n\u001b[0;32m    635\u001b[0m     \u001b[38;5;28;01mreturn\u001b[39;00m \u001b[38;5;28mself\u001b[39m\u001b[38;5;241m.\u001b[39m_handle_eof(packet)\n\u001b[0;32m    636\u001b[0m \u001b[38;5;28;01mif\u001b[39;00m packet[\u001b[38;5;241m4\u001b[39m] \u001b[38;5;241m==\u001b[39m \u001b[38;5;241m255\u001b[39m:\n\u001b[1;32m--> 637\u001b[0m     \u001b[38;5;28;01mraise\u001b[39;00m get_exception(packet)\n\u001b[0;32m    639\u001b[0m \u001b[38;5;66;03m# We have a text result set\u001b[39;00m\n\u001b[0;32m    640\u001b[0m column_count \u001b[38;5;241m=\u001b[39m \u001b[38;5;28mself\u001b[39m\u001b[38;5;241m.\u001b[39m_protocol\u001b[38;5;241m.\u001b[39mparse_column_count(packet)\n",
      "\u001b[1;31mIntegrityError\u001b[0m: 1062 (23000): Duplicate entry '1' for key 'doctor.PRIMARY'"
     ]
    }
   ],
   "source": [
    "insert_query = \"\"\"\n",
    "    INSERT INTO hospital.doctor (id, name, description, start_date, end_date)\n",
    "    VALUES (%s, %s, %s, %s, %s)\n",
    "    \"\"\"\n",
    "cursor.executemany(insert_query, doctors_data)\n",
    "conn.commit()\n"
   ]
  },
  {
   "cell_type": "code",
   "execution_count": 4,
   "id": "bbffcbd5-fb59-4bc2-bd40-210dcc5f615c",
   "metadata": {},
   "outputs": [],
   "source": [
    "patients_data = [\n",
    "    (101, \"Mr.Zhang\", \"hypertension\", date(2023, 5, 15)),\n",
    "    (102, \"Mr.Li\", \"diabetes\", date(2023, 6, 20)),\n",
    "    (103, \"Mr.Wang\", \"cold\", date(2023, 7, 10)),\n",
    "    (104, \"Mr.Zhao\", \"physical examination\", date(2023, 8, 5))\n",
    "]\n",
    "insert_query = \"\"\"\n",
    "INSERT INTO hospital.patient (id, name, description, visit_date)\n",
    "VALUES (%s, %s, %s, %s)\n",
    "\"\"\"\n",
    "cursor.executemany(insert_query, patients_data)\n",
    "conn.commit()\n"
   ]
  },
  {
   "cell_type": "code",
   "execution_count": 5,
   "id": "f159e07a-3dd4-4531-acbf-8d887e00eaed",
   "metadata": {},
   "outputs": [
    {
     "name": "stdout",
     "output_type": "stream",
     "text": [
      "(101, 'Mr.Zhang', 'hypertension', datetime.date(2023, 5, 15))\n",
      "(102, 'Mr.Li', 'diabetes', datetime.date(2023, 6, 20))\n",
      "(103, 'Mr.Wang', 'cold', datetime.date(2023, 7, 10))\n",
      "(104, 'Mr.Zhao', 'physical examination', datetime.date(2023, 8, 5))\n"
     ]
    }
   ],
   "source": [
    "cursor.execute(\"SELECT * FROM hospital.patient\")\n",
    "rows = cursor.fetchall()\n",
    "for row in rows:\n",
    "    print(row)"
   ]
  },
  {
   "cell_type": "code",
   "execution_count": 8,
   "id": "dc5ae43e-3efb-4f98-b4dd-802f874d73b4",
   "metadata": {},
   "outputs": [],
   "source": [
    "dept_doctor_data = [\n",
    "        # (department_id, doctor_id, creat_date, update_date, description)\n",
    "        (1, 1, date(2015, 6, 1), date(2025, 6, 1), \"a\"),\n",
    "        (2, 2, date(2018, 3, 15), None, \"b\"),\n",
    "        (2, 3, date(2020, 1, 10), date(2023, 12, 31), \"c\"),\n",
    "        (2, 4, date(2017, 9, 1), None, \"d\")\n",
    "    ]\n"
   ]
  },
  {
   "cell_type": "code",
   "execution_count": 10,
   "id": "6f85dbb2-d6d2-42fd-a81e-5e81724a908f",
   "metadata": {},
   "outputs": [],
   "source": [
    "new_relations = [\n",
    "        rel for rel in dept_doctor_data \n",
    "    ]"
   ]
  },
  {
   "cell_type": "code",
   "execution_count": 13,
   "id": "57331d90-614c-4e4c-ad2f-21fe84535e32",
   "metadata": {},
   "outputs": [
    {
     "name": "stdout",
     "output_type": "stream",
     "text": [
      "Field\tType\tNull\tKey\tDefault\tExtra\n",
      "department_id\tint\tNO\tPRI\tNULL\t\n",
      "doctor_id\tint\tYES\t\tNULL\t\n",
      "creat_date\tdate\tYES\t\tNULL\t\n",
      "update_date\tdate\tYES\t\tNULL\t\n",
      "description\tvarchar(45)\tYES\t\tNULL\t\n"
     ]
    }
   ],
   "source": [
    "cursor.execute(\"DESCRIBE hospital.department_doctor\")\n",
    "columns = cursor.fetchall()\n",
    "\n",
    "# 打印字段信息\n",
    "print(\"Field\\tType\\tNull\\tKey\\tDefault\\tExtra\")\n",
    "for col in columns:\n",
    "    print(\"\\t\".join(str(c) if c is not None else \"NULL\" for c in col))\n"
   ]
  },
  {
   "cell_type": "code",
   "execution_count": 14,
   "id": "79cf2266-93ca-4e8a-85dd-f57c77c91bf9",
   "metadata": {},
   "outputs": [],
   "source": [
    "cursor.execute(\"ALTER TABLE department_doctor DROP PRIMARY KEY\")\n",
    "cursor.execute(\"ALTER TABLE department_doctor ADD PRIMARY KEY (department_id, doctor_id)\")\n",
    "conn.commit()\n"
   ]
  },
  {
   "cell_type": "code",
   "execution_count": 15,
   "id": "ec004481-310f-4068-a84f-a4eccc4fc7ea",
   "metadata": {},
   "outputs": [
    {
     "name": "stdout",
     "output_type": "stream",
     "text": [
      "成功插入 4 条科室-医生关系记录\n",
      "\n",
      "当前科室-医生关系：\n",
      "dept_id\tdept_name\tdoctor_id\tdoctor_name\tdescription\tupdate_date\n",
      "1\tsugery\t1\tDr.A\ta\t2025-06-01\n",
      "2\tinternal\t3\tDr.C\tc\t2023-12-31\n",
      "2\tinternal\t2\tDr.B\tb\tNULL\n",
      "2\tinternal\t4\tDr.D\td\tNULL\n"
     ]
    }
   ],
   "source": [
    "insert_query = \"\"\"\n",
    "INSERT INTO department_doctor \n",
    "(department_id, doctor_id, creat_date, update_date, description)\n",
    "VALUES (%s, %s, %s, %s, %s)\n",
    "\"\"\"\n",
    "cursor.executemany(insert_query, new_relations)\n",
    "conn.commit()\n",
    "\n",
    "\n"
   ]
  },
  {
   "cell_type": "code",
   "execution_count": 16,
   "id": "3c4ffd93-28a4-436c-b449-8c21b7010187",
   "metadata": {},
   "outputs": [
    {
     "name": "stdout",
     "output_type": "stream",
     "text": [
      "dept_id\tdept_name\tdoctor_id\tdoctor_name\tdescription\tupdate_date\n",
      "1\tsugery\t1\tDr.A\ta\t2025-06-01\n",
      "2\tinternal\t3\tDr.C\tc\t2023-12-31\n",
      "2\tinternal\t2\tDr.B\tb\tNULL\n",
      "2\tinternal\t4\tDr.D\td\tNULL\n"
     ]
    }
   ],
   "source": [
    "# check\n",
    "\n",
    "cursor.execute(\"\"\"\n",
    "SELECT d.id as dept_id, d.name as dept_name, \n",
    "        doc.id as doctor_id, doc.name as doctor_name,\n",
    "        dd.description, dd.update_date\n",
    "FROM department_doctor dd\n",
    "JOIN department d ON dd.department_id = d.id\n",
    "JOIN doctor doc ON dd.doctor_id = doc.id\n",
    "ORDER BY dd.update_date DESC\n",
    "\"\"\")\n",
    "        \n",
    "\n",
    "columns = [desc[0] for desc in cursor.description]\n",
    "print(\"\\t\".join(columns))\n",
    "\n",
    "\n",
    "for row in cursor.fetchall():\n",
    "    print(\"\\t\".join(\n",
    "        str(x) if x is not None else \"NULL\" \n",
    "        for x in row\n",
    "    ))"
   ]
  },
  {
   "cell_type": "code",
   "execution_count": 17,
   "id": "321074a2-e105-4720-9acc-8c0b9899f176",
   "metadata": {},
   "outputs": [
    {
     "name": "stdout",
     "output_type": "stream",
     "text": [
      "Field\tType\tNull\tKey\tDefault\tExtra\n",
      "doctor_id\tint\tNO\tPRI\tNULL\t\n",
      "patient_id\tint\tYES\t\tNULL\t\n",
      "visit_date\tdate\tYES\t\tNULL\t\n",
      "decription\tvarchar(45)\tYES\t\tNULL\t\n"
     ]
    }
   ],
   "source": [
    "cursor.execute(\"DESCRIBE hospital.doctor_patient\")\n",
    "columns = cursor.fetchall()\n",
    "\n",
    "# 打印字段信息\n",
    "print(\"Field\\tType\\tNull\\tKey\\tDefault\\tExtra\")\n",
    "for col in columns:\n",
    "    print(\"\\t\".join(str(c) if c is not None else \"NULL\" for c in col))"
   ]
  },
  {
   "cell_type": "code",
   "execution_count": 18,
   "id": "36789f1a-5bd7-4ad9-bfd3-c72543536d6c",
   "metadata": {},
   "outputs": [],
   "source": [
    "cursor.execute(\"ALTER TABLE doctor_patient DROP PRIMARY KEY\")\n",
    "cursor.execute(\"ALTER TABLE doctor_patient ADD PRIMARY KEY (doctor_id,patient_id)\")\n",
    "conn.commit()\n"
   ]
  },
  {
   "cell_type": "code",
   "execution_count": 21,
   "id": "de51f303-ef6a-4371-b295-19ae54e5c0b4",
   "metadata": {},
   "outputs": [],
   "source": [
    "doctor_patient_data = [\n",
    "        # (doctor_id, patient_id, visit_date, decription)\n",
    "        (1, 101, date(2023, 5, 15), \"a\"),\n",
    "        (2, 102, date(2023, 6, 20), \"b\"),\n",
    "        (3, 103, date(2023, 7, 10), \"c\"),\n",
    "        (4, 104, date(2023, 8, 5), \"d\")\n",
    "    ]\n",
    "new_relations = [\n",
    "        rel for rel in doctor_patient_data\n",
    "    ]\n",
    "insert_query = \"\"\"\n",
    "INSERT INTO hospital.doctor_patient\n",
    "(doctor_id, patient_id, visit_date, decription)\n",
    "VALUES (%s, %s, %s, %s)\n",
    "\"\"\"\n",
    "cursor.executemany(insert_query, new_relations)\n",
    "conn.commit()\n"
   ]
  },
  {
   "cell_type": "code",
   "execution_count": 22,
   "id": "4697083d-a467-4014-9937-3dd1550f2924",
   "metadata": {},
   "outputs": [
    {
     "name": "stdout",
     "output_type": "stream",
     "text": [
      "('doctor_id', 'int', 'NO', 'PRI', None, '')\n",
      "('patient_id', 'int', 'NO', 'PRI', None, '')\n",
      "('visit_date', 'date', 'YES', '', None, '')\n",
      "('decription', 'varchar(45)', 'YES', '', None, '')\n"
     ]
    }
   ],
   "source": [
    "cursor.execute(\"DESCRIBE hospital.doctor_patient\")\n",
    "for row in cursor.fetchall():\n",
    "    print(row)"
   ]
  },
  {
   "cell_type": "code",
   "execution_count": 23,
   "id": "c3180edf-a5d6-427a-8b1d-86ad85625d7f",
   "metadata": {},
   "outputs": [
    {
     "name": "stdout",
     "output_type": "stream",
     "text": [
      "(1, 101, datetime.date(2023, 5, 15), 'a')\n",
      "(2, 102, datetime.date(2023, 6, 20), 'b')\n",
      "(3, 103, datetime.date(2023, 7, 10), 'c')\n",
      "(4, 104, datetime.date(2023, 8, 5), 'd')\n"
     ]
    }
   ],
   "source": [
    "cursor.execute(\"SELECT * FROM hospital.doctor_patient\")\n",
    "rows = cursor.fetchall()  \n",
    "for row in rows:\n",
    "    print(row)\n"
   ]
  },
  {
   "cell_type": "code",
   "execution_count": null,
   "id": "dd109b3d-13ed-48d1-9539-001a7db5bef8",
   "metadata": {},
   "outputs": [],
   "source": []
  }
 ],
 "metadata": {
  "kernelspec": {
   "display_name": "Python [conda env:base] *",
   "language": "python",
   "name": "conda-base-py"
  },
  "language_info": {
   "codemirror_mode": {
    "name": "ipython",
    "version": 3
   },
   "file_extension": ".py",
   "mimetype": "text/x-python",
   "name": "python",
   "nbconvert_exporter": "python",
   "pygments_lexer": "ipython3",
   "version": "3.10.13"
  }
 },
 "nbformat": 4,
 "nbformat_minor": 5
}
